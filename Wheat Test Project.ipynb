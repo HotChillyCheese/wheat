{
 "cells": [
  {
   "cell_type": "code",
   "execution_count": 667,
   "id": "4ef384f5",
   "metadata": {},
   "outputs": [],
   "source": [
    "import pandas as pd\n",
    "import numpy as np\n",
    "import matplotlib.pyplot as plt"
   ]
  },
  {
   "cell_type": "markdown",
   "id": "215ff905",
   "metadata": {},
   "source": [
    "## Load generated tsv file from the eurostat website into the dataframe"
   ]
  },
  {
   "cell_type": "code",
   "execution_count": 668,
   "id": "2510126b",
   "metadata": {},
   "outputs": [],
   "source": [
    "df_nuts =  pd.read_csv('Input Data/crop_prod_nuts_data.tsv', sep = '\\t', header=0, encoding = \"ISO-8859-1\")"
   ]
  },
  {
   "cell_type": "markdown",
   "id": "73cc7650",
   "metadata": {},
   "source": [
    "Replace missing values (colons) with NaN"
   ]
  },
  {
   "cell_type": "code",
   "execution_count": 669,
   "id": "f6b73429",
   "metadata": {},
   "outputs": [],
   "source": [
    "df_nuts = df_nuts.replace(':',np.nan)"
   ]
  },
  {
   "cell_type": "markdown",
   "id": "ec034c35",
   "metadata": {},
   "source": [
    "* reset indices\n",
    "* set the first column values as keys"
   ]
  },
  {
   "cell_type": "code",
   "execution_count": 670,
   "id": "829cefe9",
   "metadata": {},
   "outputs": [],
   "source": [
    "df_nuts.reset_index(drop=True, inplace=True)"
   ]
  },
  {
   "cell_type": "code",
   "execution_count": 671,
   "id": "80be4e1e",
   "metadata": {},
   "outputs": [],
   "source": [
    "df_nuts = df_nuts.set_index('GEO,CROPS,STRUCPRO\\TIME')"
   ]
  },
  {
   "cell_type": "markdown",
   "id": "79b32e59",
   "metadata": {},
   "source": [
    "*Repeat the loading process for the second tsv file*"
   ]
  },
  {
   "cell_type": "code",
   "execution_count": 672,
   "id": "6d55d5a7",
   "metadata": {},
   "outputs": [],
   "source": [
    "df_alt= pd.read_csv('Input Data/crop_prod_data.tsv', sep = '\\t', header=0, encoding = \"ISO-8859-1\")"
   ]
  },
  {
   "cell_type": "code",
   "execution_count": 673,
   "id": "4171900b",
   "metadata": {},
   "outputs": [],
   "source": [
    "df_alt=df_alt.replace(':',np.nan)"
   ]
  },
  {
   "cell_type": "code",
   "execution_count": 674,
   "id": "88fe1d58",
   "metadata": {},
   "outputs": [],
   "source": [
    "df_alt.reset_index(drop=True, inplace=True)"
   ]
  },
  {
   "cell_type": "code",
   "execution_count": 675,
   "id": "e91f5b0e",
   "metadata": {},
   "outputs": [],
   "source": [
    "df_alt=df_alt.set_index('GEO,CROPS,STRUCPRO\\TIME')"
   ]
  },
  {
   "cell_type": "markdown",
   "id": "e2ccdcb9",
   "metadata": {},
   "source": [
    "## Complete missing information with data from the second dataframe"
   ]
  },
  {
   "cell_type": "code",
   "execution_count": 676,
   "id": "164bc6f9",
   "metadata": {},
   "outputs": [],
   "source": [
    "df=df_nuts"
   ]
  },
  {
   "cell_type": "markdown",
   "id": "93408ec4",
   "metadata": {},
   "source": [
    "Update missing values from the second dataframe"
   ]
  },
  {
   "cell_type": "code",
   "execution_count": 677,
   "id": "47d5f5c6",
   "metadata": {},
   "outputs": [],
   "source": [
    "df.update(df_alt, overwrite=False)"
   ]
  },
  {
   "cell_type": "code",
   "execution_count": 678,
   "id": "7ffb6fc0",
   "metadata": {
    "scrolled": false
   },
   "outputs": [],
   "source": [
    "df = df.reset_index()"
   ]
  },
  {
   "cell_type": "markdown",
   "id": "65ab9c21",
   "metadata": {},
   "source": [
    "## Clean up and format the table\n",
    "Split values from the first column into three separate ones"
   ]
  },
  {
   "cell_type": "code",
   "execution_count": 679,
   "id": "8b5d6464",
   "metadata": {},
   "outputs": [],
   "source": [
    "df[['Location','comdty','param']]=df['GEO,CROPS,STRUCPRO\\TIME'].str.rsplit(\",\",2,expand=True)"
   ]
  },
  {
   "cell_type": "markdown",
   "id": "44620091",
   "metadata": {},
   "source": [
    "Move the new columns to the front and drop the original one"
   ]
  },
  {
   "cell_type": "code",
   "execution_count": 680,
   "id": "016408a7",
   "metadata": {},
   "outputs": [],
   "source": [
    "df = df[['Location','comdty','param','2012','2013','2014','2015','2016','2017','2018','2019','2020','2021']]"
   ]
  },
  {
   "cell_type": "markdown",
   "id": "b16cb0d7",
   "metadata": {},
   "source": [
    "Set every NaN value as 0"
   ]
  },
  {
   "cell_type": "code",
   "execution_count": 681,
   "id": "937a427d",
   "metadata": {},
   "outputs": [],
   "source": [
    "# df=df.replace(np.nan,0)"
   ]
  },
  {
   "cell_type": "markdown",
   "id": "c6b02f5c",
   "metadata": {},
   "source": [
    "Library used to latinize strings"
   ]
  },
  {
   "cell_type": "code",
   "execution_count": 682,
   "id": "d1dbe8e8",
   "metadata": {},
   "outputs": [],
   "source": [
    "import unicodedata"
   ]
  },
  {
   "cell_type": "markdown",
   "id": "19cecdc0",
   "metadata": {},
   "source": [
    "Function takes string as input <br>\n",
    "Applies normalize (latinize) method to it <br>\n",
    "Encodes as ASCII while dropping error characters if any persist <br>\n",
    "Returns an utf-8 decoded string that has no non-ascii characters"
   ]
  },
  {
   "cell_type": "code",
   "execution_count": 683,
   "id": "923c4463",
   "metadata": {},
   "outputs": [],
   "source": [
    "def remove_accents(input_str):\n",
    "    form=unicodedata.normalize('NFKD',input_str)\n",
    "    only_ascii=form.encode('ASCII','ignore')\n",
    "    return only_ascii.decode('utf-8')"
   ]
  },
  {
   "cell_type": "markdown",
   "id": "53ef6fd8",
   "metadata": {},
   "source": [
    "Apply prev mentioned function to the Location column"
   ]
  },
  {
   "cell_type": "code",
   "execution_count": 684,
   "id": "7884f636",
   "metadata": {},
   "outputs": [],
   "source": [
    "df['Location']=df['Location'].apply(remove_accents)"
   ]
  },
  {
   "cell_type": "markdown",
   "id": "94332d2f",
   "metadata": {},
   "source": [
    "Renaming Location column to shapeId to adhere to the naming standards"
   ]
  },
  {
   "cell_type": "code",
   "execution_count": 685,
   "id": "0b53cf34",
   "metadata": {},
   "outputs": [],
   "source": [
    "df=df.rename(columns={'Location':'shapeId'})"
   ]
  },
  {
   "cell_type": "markdown",
   "id": "90fd779d",
   "metadata": {},
   "source": [
    "## Move yearly column values to a single column\n",
    " \n",
    "Splitting dataframe into two along the first encounter of the years column"
   ]
  },
  {
   "cell_type": "code",
   "execution_count": 686,
   "id": "52524c94",
   "metadata": {},
   "outputs": [],
   "source": [
    "df_main = df.iloc[:,:3]"
   ]
  },
  {
   "cell_type": "code",
   "execution_count": 687,
   "id": "6212bdd9",
   "metadata": {},
   "outputs": [],
   "source": [
    "df_year = df.iloc[:,3:]"
   ]
  },
  {
   "cell_type": "markdown",
   "id": "68598f41",
   "metadata": {},
   "source": [
    "* Create a dictionary of dataframes for each year in the table\n",
    "* Iterate over every year in the dataframe \n",
    "* Concatenate its' column values with the dataframe that consists of param and comdty attributes \n",
    "* Rename the 'year' column into 'value' \n",
    "* Create a date column and add the corresponding date to it"
   ]
  },
  {
   "cell_type": "code",
   "execution_count": 688,
   "id": "ea7d9c12",
   "metadata": {},
   "outputs": [],
   "source": [
    "df_date_merge={}\n",
    "for (columnName, columnData) in df_year.iteritems():\n",
    "    df_date_merge[columnName]=pd.concat([df_main,df_year[columnName]],axis=1)\n",
    "    df_date_merge[columnName]=df_date_merge[columnName].rename(columns={columnName:'value'})\n",
    "    df_date_merge[columnName].insert(loc=0,column='date',value=columnName+'-01-01 00:00:00')   "
   ]
  },
  {
   "cell_type": "markdown",
   "id": "51a94620",
   "metadata": {},
   "source": [
    "Create empty data frame that will house all yearly dataframes <br>\n",
    "Iterate over each dataframe in the dictionary <br> \n",
    "Concatenate it to the final dataframe"
   ]
  },
  {
   "cell_type": "code",
   "execution_count": 689,
   "id": "4953d732",
   "metadata": {},
   "outputs": [],
   "source": [
    "df_final=pd.DataFrame()\n",
    "for key,frame in df_date_merge.items():\n",
    "    df_final=pd.concat([df_final,frame],ignore_index=True,sort=False)"
   ]
  },
  {
   "cell_type": "markdown",
   "id": "5fa8c1af",
   "metadata": {},
   "source": [
    "## Change datatypes of columns\n",
    "Change **'date'** columns' datatype to **'datetime'** <br>\n",
    "Remove all non digit elements from the value column except periods ('.')"
   ]
  },
  {
   "cell_type": "code",
   "execution_count": 690,
   "id": "9ffb0ed5",
   "metadata": {},
   "outputs": [],
   "source": [
    "df_final['date']= pd.to_datetime(df_final['date'])\n",
    "df_final['value'].replace(regex=True, inplace=True, to_replace=r'[^\\d.]', value=r'')"
   ]
  },
  {
   "cell_type": "markdown",
   "id": "5d432bc4",
   "metadata": {},
   "source": [
    "Add the dateRelease column to the table and setting its' type to datetime"
   ]
  },
  {
   "cell_type": "code",
   "execution_count": 691,
   "id": "69198765",
   "metadata": {},
   "outputs": [],
   "source": [
    "df_final.insert(loc=1,column='dateRelease',value=\"2021-09-23 00:00:00\")"
   ]
  },
  {
   "cell_type": "code",
   "execution_count": 692,
   "id": "9949507d",
   "metadata": {},
   "outputs": [],
   "source": [
    "df_final['dateRelease']=pd.to_datetime(df_final['dateRelease'])"
   ]
  },
  {
   "cell_type": "markdown",
   "id": "be11ad0c",
   "metadata": {},
   "source": [
    "Set values from the **'value'** column to floats <br>\n",
    "Set any empty cell to NaN <br>\n",
    "Empty cells have flags, i.e. \"classified\", \"removed\", etc. <br>\n",
    "**Interpret them as zero values** <br>"
   ]
  },
  {
   "cell_type": "code",
   "execution_count": 693,
   "id": "fa959334",
   "metadata": {},
   "outputs": [],
   "source": [
    "df_final['value'] = pd.to_numeric(df_final['value'],errors='coerce')"
   ]
  },
  {
   "cell_type": "code",
   "execution_count": 694,
   "id": "5f986946",
   "metadata": {},
   "outputs": [],
   "source": [
    "# df_final['value'] = df_final['value'].replace(np.nan, 0)"
   ]
  },
  {
   "cell_type": "markdown",
   "id": "6bc3a6bf",
   "metadata": {},
   "source": [
    "Check that all columns have the appropriate type"
   ]
  },
  {
   "cell_type": "code",
   "execution_count": 695,
   "id": "0af10cb7",
   "metadata": {},
   "outputs": [
    {
     "data": {
      "text/plain": [
       "date           datetime64[ns]\n",
       "dateRelease    datetime64[ns]\n",
       "shapeId                object\n",
       "comdty                 object\n",
       "param                  object\n",
       "value                 float64\n",
       "dtype: object"
      ]
     },
     "execution_count": 695,
     "metadata": {},
     "output_type": "execute_result"
    }
   ],
   "source": [
    "df_final.dtypes"
   ]
  },
  {
   "cell_type": "markdown",
   "id": "79a5ac0c",
   "metadata": {},
   "source": [
    "Writing the data frame to an output csv file"
   ]
  },
  {
   "cell_type": "code",
   "execution_count": 696,
   "id": "8d5afaa7",
   "metadata": {},
   "outputs": [],
   "source": [
    "df_final.to_csv('Output Data/crop_prod_eu_stand_humidity_combined.csv')"
   ]
  },
  {
   "cell_type": "code",
   "execution_count": 697,
   "id": "c8b0cbde",
   "metadata": {},
   "outputs": [],
   "source": [
    "df_final.to_csv('Output Data/crop_prod_eu_stand_humidity_combined.tsv')"
   ]
  },
  {
   "cell_type": "code",
   "execution_count": 698,
   "id": "1890f5bf",
   "metadata": {},
   "outputs": [
    {
     "data": {
      "text/html": [
       "<div>\n",
       "<style scoped>\n",
       "    .dataframe tbody tr th:only-of-type {\n",
       "        vertical-align: middle;\n",
       "    }\n",
       "\n",
       "    .dataframe tbody tr th {\n",
       "        vertical-align: top;\n",
       "    }\n",
       "\n",
       "    .dataframe thead th {\n",
       "        text-align: right;\n",
       "    }\n",
       "</style>\n",
       "<table border=\"1\" class=\"dataframe\">\n",
       "  <thead>\n",
       "    <tr style=\"text-align: right;\">\n",
       "      <th></th>\n",
       "      <th>date</th>\n",
       "      <th>dateRelease</th>\n",
       "      <th>shapeId</th>\n",
       "      <th>comdty</th>\n",
       "      <th>param</th>\n",
       "      <th>value</th>\n",
       "    </tr>\n",
       "  </thead>\n",
       "  <tbody>\n",
       "    <tr>\n",
       "      <th>0</th>\n",
       "      <td>2012-01-01</td>\n",
       "      <td>2021-09-23</td>\n",
       "      <td>European Union (EU6-1958, EU9-1973, EU10-1981,...</td>\n",
       "      <td>Wheat and spelt</td>\n",
       "      <td>Area (cultivation/harvested/production) (1000 ha)</td>\n",
       "      <td>NaN</td>\n",
       "    </tr>\n",
       "    <tr>\n",
       "      <th>1</th>\n",
       "      <td>2012-01-01</td>\n",
       "      <td>2021-09-23</td>\n",
       "      <td>European Union - 27 countries (from 2020)</td>\n",
       "      <td>Wheat and spelt</td>\n",
       "      <td>Area (cultivation/harvested/production) (1000 ha)</td>\n",
       "      <td>NaN</td>\n",
       "    </tr>\n",
       "    <tr>\n",
       "      <th>2</th>\n",
       "      <td>2012-01-01</td>\n",
       "      <td>2021-09-23</td>\n",
       "      <td>European Union - 28 countries (2013-2020)</td>\n",
       "      <td>Wheat and spelt</td>\n",
       "      <td>Area (cultivation/harvested/production) (1000 ha)</td>\n",
       "      <td>NaN</td>\n",
       "    </tr>\n",
       "    <tr>\n",
       "      <th>3</th>\n",
       "      <td>2012-01-01</td>\n",
       "      <td>2021-09-23</td>\n",
       "      <td>Belgium</td>\n",
       "      <td>Wheat and spelt</td>\n",
       "      <td>Area (cultivation/harvested/production) (1000 ha)</td>\n",
       "      <td>217.1</td>\n",
       "    </tr>\n",
       "    <tr>\n",
       "      <th>4</th>\n",
       "      <td>2012-01-01</td>\n",
       "      <td>2021-09-23</td>\n",
       "      <td>Region de Bruxelles-Capitale/Brussels Hoofdste...</td>\n",
       "      <td>Wheat and spelt</td>\n",
       "      <td>Area (cultivation/harvested/production) (1000 ha)</td>\n",
       "      <td>NaN</td>\n",
       "    </tr>\n",
       "    <tr>\n",
       "      <th>...</th>\n",
       "      <td>...</td>\n",
       "      <td>...</td>\n",
       "      <td>...</td>\n",
       "      <td>...</td>\n",
       "      <td>...</td>\n",
       "      <td>...</td>\n",
       "    </tr>\n",
       "    <tr>\n",
       "      <th>156995</th>\n",
       "      <td>2021-01-01</td>\n",
       "      <td>2021-09-23</td>\n",
       "      <td>Gaziantep, Adiyaman, Kilis</td>\n",
       "      <td>Durum wheat</td>\n",
       "      <td>EU standard humidity (%)</td>\n",
       "      <td>NaN</td>\n",
       "    </tr>\n",
       "    <tr>\n",
       "      <th>156996</th>\n",
       "      <td>2021-01-01</td>\n",
       "      <td>2021-09-23</td>\n",
       "      <td>Sanliurfa, Diyarbakir</td>\n",
       "      <td>Durum wheat</td>\n",
       "      <td>EU standard humidity (%)</td>\n",
       "      <td>NaN</td>\n",
       "    </tr>\n",
       "    <tr>\n",
       "      <th>156997</th>\n",
       "      <td>2021-01-01</td>\n",
       "      <td>2021-09-23</td>\n",
       "      <td>Mardin, Batman, Sirnak, Siirt</td>\n",
       "      <td>Durum wheat</td>\n",
       "      <td>EU standard humidity (%)</td>\n",
       "      <td>NaN</td>\n",
       "    </tr>\n",
       "    <tr>\n",
       "      <th>156998</th>\n",
       "      <td>2021-01-01</td>\n",
       "      <td>2021-09-23</td>\n",
       "      <td>Bosnia and Herzegovina</td>\n",
       "      <td>Durum wheat</td>\n",
       "      <td>EU standard humidity (%)</td>\n",
       "      <td>14.0</td>\n",
       "    </tr>\n",
       "    <tr>\n",
       "      <th>156999</th>\n",
       "      <td>2021-01-01</td>\n",
       "      <td>2021-09-23</td>\n",
       "      <td>Kosovo (under United Nations Security Council ...</td>\n",
       "      <td>Durum wheat</td>\n",
       "      <td>EU standard humidity (%)</td>\n",
       "      <td>NaN</td>\n",
       "    </tr>\n",
       "  </tbody>\n",
       "</table>\n",
       "<p>157000 rows × 6 columns</p>\n",
       "</div>"
      ],
      "text/plain": [
       "             date dateRelease  \\\n",
       "0      2012-01-01  2021-09-23   \n",
       "1      2012-01-01  2021-09-23   \n",
       "2      2012-01-01  2021-09-23   \n",
       "3      2012-01-01  2021-09-23   \n",
       "4      2012-01-01  2021-09-23   \n",
       "...           ...         ...   \n",
       "156995 2021-01-01  2021-09-23   \n",
       "156996 2021-01-01  2021-09-23   \n",
       "156997 2021-01-01  2021-09-23   \n",
       "156998 2021-01-01  2021-09-23   \n",
       "156999 2021-01-01  2021-09-23   \n",
       "\n",
       "                                                  shapeId           comdty  \\\n",
       "0       European Union (EU6-1958, EU9-1973, EU10-1981,...  Wheat and spelt   \n",
       "1               European Union - 27 countries (from 2020)  Wheat and spelt   \n",
       "2               European Union - 28 countries (2013-2020)  Wheat and spelt   \n",
       "3                                                 Belgium  Wheat and spelt   \n",
       "4       Region de Bruxelles-Capitale/Brussels Hoofdste...  Wheat and spelt   \n",
       "...                                                   ...              ...   \n",
       "156995                         Gaziantep, Adiyaman, Kilis      Durum wheat   \n",
       "156996                              Sanliurfa, Diyarbakir      Durum wheat   \n",
       "156997                      Mardin, Batman, Sirnak, Siirt      Durum wheat   \n",
       "156998                             Bosnia and Herzegovina      Durum wheat   \n",
       "156999  Kosovo (under United Nations Security Council ...      Durum wheat   \n",
       "\n",
       "                                                    param  value  \n",
       "0       Area (cultivation/harvested/production) (1000 ha)    NaN  \n",
       "1       Area (cultivation/harvested/production) (1000 ha)    NaN  \n",
       "2       Area (cultivation/harvested/production) (1000 ha)    NaN  \n",
       "3       Area (cultivation/harvested/production) (1000 ha)  217.1  \n",
       "4       Area (cultivation/harvested/production) (1000 ha)    NaN  \n",
       "...                                                   ...    ...  \n",
       "156995                           EU standard humidity (%)    NaN  \n",
       "156996                           EU standard humidity (%)    NaN  \n",
       "156997                           EU standard humidity (%)    NaN  \n",
       "156998                           EU standard humidity (%)   14.0  \n",
       "156999                           EU standard humidity (%)    NaN  \n",
       "\n",
       "[157000 rows x 6 columns]"
      ]
     },
     "execution_count": 698,
     "metadata": {},
     "output_type": "execute_result"
    }
   ],
   "source": [
    "df_final"
   ]
  },
  {
   "cell_type": "code",
   "execution_count": 699,
   "id": "35a02d29",
   "metadata": {},
   "outputs": [
    {
     "name": "stdout",
     "output_type": "stream",
     "text": [
      "<class 'pandas.core.frame.DataFrame'>\n",
      "RangeIndex: 157000 entries, 0 to 156999\n",
      "Data columns (total 6 columns):\n",
      " #   Column       Non-Null Count   Dtype         \n",
      "---  ------       --------------   -----         \n",
      " 0   date         157000 non-null  datetime64[ns]\n",
      " 1   dateRelease  157000 non-null  datetime64[ns]\n",
      " 2   shapeId      157000 non-null  object        \n",
      " 3   comdty       157000 non-null  object        \n",
      " 4   param        157000 non-null  object        \n",
      " 5   value        53751 non-null   float64       \n",
      "dtypes: datetime64[ns](2), float64(1), object(3)\n",
      "memory usage: 7.2+ MB\n"
     ]
    }
   ],
   "source": [
    "df_final.info()"
   ]
  },
  {
   "cell_type": "code",
   "execution_count": 700,
   "id": "85b1fda9",
   "metadata": {},
   "outputs": [
    {
     "data": {
      "text/plain": [
       "942000"
      ]
     },
     "execution_count": 700,
     "metadata": {},
     "output_type": "execute_result"
    }
   ],
   "source": [
    "df_final.size"
   ]
  },
  {
   "cell_type": "code",
   "execution_count": 701,
   "id": "066dd2a6",
   "metadata": {},
   "outputs": [
    {
     "data": {
      "text/plain": [
       "(157000, 6)"
      ]
     },
     "execution_count": 701,
     "metadata": {},
     "output_type": "execute_result"
    }
   ],
   "source": [
    "df_final.shape"
   ]
  },
  {
   "cell_type": "code",
   "execution_count": null,
   "id": "aee74de5",
   "metadata": {},
   "outputs": [],
   "source": []
  }
 ],
 "metadata": {
  "kernelspec": {
   "display_name": "Python 3 (ipykernel)",
   "language": "python",
   "name": "python3"
  },
  "language_info": {
   "codemirror_mode": {
    "name": "ipython",
    "version": 3
   },
   "file_extension": ".py",
   "mimetype": "text/x-python",
   "name": "python",
   "nbconvert_exporter": "python",
   "pygments_lexer": "ipython3",
   "version": "3.7.4"
  }
 },
 "nbformat": 4,
 "nbformat_minor": 5
}
