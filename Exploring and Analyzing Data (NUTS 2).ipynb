{
 "cells": [
  {
   "cell_type": "code",
   "execution_count": 4,
   "id": "38a7ee0a",
   "metadata": {},
   "outputs": [],
   "source": [
    "import pandas as pd\n",
    "import numpy as np\n",
    "import matplotlib.pyplot as plt\n",
    "import unicodedata"
   ]
  },
  {
   "cell_type": "markdown",
   "id": "1df54fcf",
   "metadata": {},
   "source": [
    "## Generating the NUTS version of the table\n",
    "Load generated tsv file from the eurostat website <br>\n",
    "Replace colons (':') with NaN <br>\n",
    "Split the first column into three <br>\n",
    "Move them to the front <br>\n",
    "Dispose of the original column <br>"
   ]
  },
  {
   "cell_type": "code",
   "execution_count": 5,
   "id": "56709031",
   "metadata": {},
   "outputs": [],
   "source": [
    "df = pd.read_csv('Input Data/crop_prod_nuts_data.tsv', sep='\\t', header=0, encoding=\"ISO-8859-1\")\n",
    "df = df.replace(\":\", np.nan)\n",
    "df[['shapeId','comdty','param']]=df['GEO,CROPS,STRUCPRO\\TIME'].str.rsplit(\",\",2,expand=True)\n",
    "df=df[['shapeId','comdty','param','2012','2013','2014','2015','2016','2017','2018','2019','2020','2021']]"
   ]
  },
  {
   "cell_type": "markdown",
   "id": "cb3d4a98",
   "metadata": {},
   "source": [
    "**Unicodedata - library used to latinize strings** <br>\n",
    "Function takes string as input <br>\n",
    "Applies normalize (latinize) method to it <br>\n",
    "Encodes as ASCII while dropping error characters if any persist <br>\n",
    "Returns an utf-8 decoded string that has no non-ascii characters <br>\n",
    "Use the function to remove special charaters from the 'shapeId' column"
   ]
  },
  {
   "cell_type": "code",
   "execution_count": 6,
   "id": "465c3f71",
   "metadata": {},
   "outputs": [],
   "source": [
    "def remove_accents(input_str):\n",
    "    form=unicodedata.normalize('NFKD',input_str)\n",
    "    only_ascii=form.encode('ASCII','ignore')\n",
    "    return only_ascii.decode('utf-8')\n",
    "df['shapeId']=df['shapeId'].apply(remove_accents)"
   ]
  },
  {
   "cell_type": "markdown",
   "id": "b44f0c5d",
   "metadata": {},
   "source": [
    "* Split the dataframe into two\n",
    "* Create a dictionary of dataframes for each year in the table\n",
    "* Iterate over every year in the dataframe\n",
    "* Concatenate its' column values with the dataframe that consists of param and comdty attributes \n",
    "* Rename the **'year'** column into **'value'**\n",
    "* Create a date column and add the corresponding date to it"
   ]
  },
  {
   "cell_type": "code",
   "execution_count": 7,
   "id": "2a6c77d9",
   "metadata": {},
   "outputs": [],
   "source": [
    "df_main=df.iloc[:,:3]\n",
    "df_year = df.iloc[:,3:]\n",
    "df_date_merge={}\n",
    "for (columnName, columnData) in df_year.iteritems():\n",
    "    df_date_merge[columnName]=pd.concat([df_main,df_year[columnName]],axis=1)\n",
    "    df_date_merge[columnName]=df_date_merge[columnName].rename(columns={columnName:'value'})\n",
    "    df_date_merge[columnName].insert(loc=0,column='date',value=columnName+'-01-01 00:00:00')   "
   ]
  },
  {
   "cell_type": "markdown",
   "id": "ba03cf18",
   "metadata": {},
   "source": [
    "Create empty data frame that will house all yearly dataframes <br>\n",
    "Iterate over each dataframe in the dictionary <br> \n",
    "Concatenate it to the final dataframe"
   ]
  },
  {
   "cell_type": "code",
   "execution_count": 8,
   "id": "226d41d7",
   "metadata": {},
   "outputs": [],
   "source": [
    "df = pd.DataFrame()\n",
    "for key,frame in df_date_merge.items():\n",
    "    df=pd.concat([df,frame],ignore_index=True,sort=False)"
   ]
  },
  {
   "cell_type": "markdown",
   "id": "1a8f3b6a",
   "metadata": {},
   "source": [
    "Change **'date'** columns' datatype to **'datetime'** <br>\n",
    "Remove all non digit elements from the value column except periods ('.')"
   ]
  },
  {
   "cell_type": "code",
   "execution_count": 9,
   "id": "8c4708f6",
   "metadata": {},
   "outputs": [],
   "source": [
    "df['date']=pd.to_datetime(df['date'])\n",
    "df['value'].replace(regex=True, inplace=True, to_replace=r'[^\\d.]',  value=r'')"
   ]
  },
  {
   "cell_type": "code",
   "execution_count": 10,
   "id": "4d10c676",
   "metadata": {},
   "outputs": [],
   "source": [
    "df['value']=pd.to_numeric(df['value'],errors='coerce')"
   ]
  },
  {
   "cell_type": "code",
   "execution_count": 11,
   "id": "c20b0df0",
   "metadata": {},
   "outputs": [],
   "source": [
    "df.insert(loc=1, column='dateRelease', value='2021-09-23 00:00:00')\n",
    "df['dateRelease']=pd.to_datetime(df['dateRelease'])"
   ]
  },
  {
   "cell_type": "markdown",
   "id": "14fc1d73",
   "metadata": {},
   "source": [
    "Write the DataFrame to a csv and tsv file"
   ]
  },
  {
   "cell_type": "code",
   "execution_count": 13,
   "id": "32c00e02",
   "metadata": {},
   "outputs": [],
   "source": [
    "df.to_csv('Output Data/crop_prod_eu_stand_humidity_NUTS.csv')\n",
    "df.to_csv('Output Data/crop_prod_eu_stand_humidity_NUTS.tsv')"
   ]
  },
  {
   "cell_type": "code",
   "execution_count": null,
   "id": "a78760ef",
   "metadata": {},
   "outputs": [],
   "source": []
  }
 ],
 "metadata": {
  "kernelspec": {
   "display_name": "Python 3 (ipykernel)",
   "language": "python",
   "name": "python3"
  },
  "language_info": {
   "codemirror_mode": {
    "name": "ipython",
    "version": 3
   },
   "file_extension": ".py",
   "mimetype": "text/x-python",
   "name": "python",
   "nbconvert_exporter": "python",
   "pygments_lexer": "ipython3",
   "version": "3.7.4"
  }
 },
 "nbformat": 4,
 "nbformat_minor": 5
}
